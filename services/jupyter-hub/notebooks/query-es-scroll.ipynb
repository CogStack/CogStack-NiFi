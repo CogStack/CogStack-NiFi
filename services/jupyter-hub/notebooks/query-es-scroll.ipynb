{
 "cells": [
  {
   "cell_type": "code",
   "execution_count": null,
   "metadata": {},
   "outputs": [],
   "source": [
    "import elasticsearch\n",
    " \n",
    "import requests\n",
    "import numpy\n",
    " \n",
    "import os\n",
    "import json\n",
    " \n",
    "from datetime import datetime\n",
    "from elasticsearch import Elasticsearch\n",
    " \n",
    "es_connector = Elasticsearch(hosts=[\"https://elasticsearch-1\", \"https://elasticsearch-2\"], use_ssl=False, verify_certs=False,  port=\"9200\",  api_key=(\"APIkey\"))\n",
    " \n",
    "number_of_docs = 10\n",
    " \n",
    "query_body_text = {\n",
    "   \"from\" : 0 ,\n",
    "   \"size\" : number_of_docs,\n",
    "    \"query\": {\n",
    "        \"docid\" : {\n",
    "            \"query\" : \"*\",\n",
    "        }\n",
    "    }\n",
    "}\n",
    " \n",
    "full_data = []\n",
    " \n",
    "data = es_connector.search(index=\"medical_reports_text\", scroll=\"1m\",  body=query_body_text)\n",
    " \n",
    "scroll_ID= data[\"_scroll_id\"]\n",
    "scroll_rec_len  = len(data[\"hits\"][\"hits\"])\n",
    " \n",
    "while scroll_rec_len > 0:\n",
    "    print(\"Getting data...\")\n",
    "    full_data.append(data[\"hits\"][\"hits\"])\n",
    "    \n",
    "    data = es_connector.scroll(scroll_id=scroll_ID, scroll=\"1m\")\n",
    "    scroll_ID = data['_scroll_id']\n",
    "    scroll_rec_len  = len(data[\"hits\"][\"hits\"])\n",
    "  \n",
    "with open('full_record_data', 'w') as json_file:\n",
    "    json.dump(full_data, json_file)"
   ]
  }
 ],
 "metadata": {
  "language_info": {
   "name": "python"
  },
  "orig_nbformat": 4
 },
 "nbformat": 4,
 "nbformat_minor": 2
}
